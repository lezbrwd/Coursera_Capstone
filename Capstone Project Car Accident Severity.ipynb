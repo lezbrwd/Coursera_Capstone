{
    "cells": [
        {
            "metadata": {},
            "cell_type": "markdown",
            "source": "# Car Accident Severity Resulting in Fatalities #\n\n## Introduction ##\n'Since March 2020 the corona-virus pandemic a _shelter-in-place_ order has minimized vehicles on thr roadways.  Instead of the minimal vehicles on the roadways, providing a safer  enviroment and insurance claim activity [cost], the opposite has occured.  Between the National Highway Safety Admininstration (NHTSA) and Insurance Service Office (ISO), car accident severity is rising at an alarming pace.  How can this be correct!  Basic logical deduction: _Less vehicle traffic produces less traffic accidents, especially server accidents._\n\nIn today's news, one health spokeman announced that the corona-virus pandemic's United States _shelter-in-place_ strategy could last until the end of 2021!  This is a study using Machine Learning alogrithms to __predict__ 07/2020 to 06/2021 fatalities based on a prior 12 months of data.'\n\n## Business Problem ##\n'Annually, insurance companies perform a _rate-making_ process to set premium rates, also known as _insurance pricing_. A rate is the price unit of insurance for each exposure unit. Vehicle coverage as property and casualty insurance, the exposure unit is typically equal to \\\\$100 of property value, and liability is measured in \\\\$1000 units. This study is focused on liability.'\n\n'Key _rate-making_ personnel are insurance underwriters and actuaries.'\n\n'The _rate-making_ process workflow is as follows:\n> 1. Identify the car accidents with fatalities data points\n> 2. Categorize data points: car fatalities, timing and volume\n> 3. Select Machine Learning Predictive Alogritm\n> 4. Perform Parameter Tuning and Averaging\n> 5. Create 2021 rates\n\n \n\n"
        },
        {
            "metadata": {},
            "cell_type": "markdown",
            "source": "## Data Section ##\n\n### Resources ###\n\n> __NHTSA: Early Estimates of Motoer Vehicle Fatalities, 2019__\n>> - Fatalities Quarterly data with percentage of change\n>> - 10-Regional counts and percentage of change<br>\n\n> __Injury Facts NSC: Traffic Volume/Averages__\n>> - Volume of Miles Driven\n>> - Number deaths\n>> - Number of Fatal Crashes<br>\n\n> __NSC January 2019 and June 2020__\n>> - Total U.S. Motor Vehicle Deaths\n>>>  - comparisons for 2020, 2019, 2018\n>>>  - percentage change\n>>>>   - 2019 to 2020\n>>>>   - 2018 to 2020\n\nUsing supervised learning to identify data patterns in creating __2021__ fatalities predictions based on above mentioned analysis."
        },
        {
            "metadata": {},
            "cell_type": "markdown",
            "source": "## Report Analysis"
        },
        {
            "metadata": {},
            "cell_type": "code",
            "source": "# Preprocessing",
            "execution_count": 1,
            "outputs": []
        },
        {
            "metadata": {},
            "cell_type": "markdown",
            "source": "#### The Study ####\n>1. Prepare data (3 combine data points featuring years, months, miles travelled and fatalities).\n>2. Applying a different algorithm to the __fatalitystudy__ dataset.\n>3. Tune algorithms to optimize the models.\n>4. Evaluate models based on their accuracy."
        },
        {
            "metadata": {},
            "cell_type": "code",
            "source": "import numpy as np\nimport pandas as pd\nfrom sklearn import preprocessing",
            "execution_count": 33,
            "outputs": []
        },
        {
            "metadata": {
                "scrolled": false
            },
            "cell_type": "code",
            "source": "# Load Fatality Study from CSV File \n\ndf = pd.read_csv('fatalitystudy.csv',delimiter=';')\ndf.head()",
            "execution_count": 34,
            "outputs": [
                {
                    "data": {
                        "text/html": "<div>\n<style scoped>\n    .dataframe tbody tr th:only-of-type {\n        vertical-align: middle;\n    }\n\n    .dataframe tbody tr th {\n        vertical-align: top;\n    }\n\n    .dataframe thead th {\n        text-align: right;\n    }\n</style>\n<table border=\"1\" class=\"dataframe\">\n  <thead>\n    <tr style=\"text-align: right;\">\n      <th></th>\n      <th>Year</th>\n      <th>1Q Count</th>\n      <th>1Q Change</th>\n      <th>1Q FR</th>\n      <th>2Q Count</th>\n      <th>2Q Change</th>\n      <th>2Q FR</th>\n      <th>3Q Count</th>\n      <th>3Q Change</th>\n      <th>3Q FR</th>\n      <th>4Q Count</th>\n      <th>4Q Change</th>\n      <th>4Q FR</th>\n      <th>YR CT</th>\n      <th>YR CHG</th>\n      <th>YR FR</th>\n    </tr>\n  </thead>\n  <tbody>\n    <tr>\n      <th>0</th>\n      <td>2009</td>\n      <td>7552</td>\n      <td>-10.7</td>\n      <td>1.09</td>\n      <td>8975</td>\n      <td>-4.9</td>\n      <td>1.16</td>\n      <td>9104</td>\n      <td>-8.5</td>\n      <td>1.17</td>\n      <td>8252</td>\n      <td>-13.9</td>\n      <td>1.12</td>\n      <td>33883</td>\n      <td>-9.5</td>\n      <td>1.15</td>\n    </tr>\n    <tr>\n      <th>1</th>\n      <td>2010</td>\n      <td>6755</td>\n      <td>-10.6</td>\n      <td>0.98</td>\n      <td>8522</td>\n      <td>-5.0</td>\n      <td>1.09</td>\n      <td>9226</td>\n      <td>1.3</td>\n      <td>1.18</td>\n      <td>8496</td>\n      <td>3.0</td>\n      <td>1.14</td>\n      <td>32999</td>\n      <td>-2.6</td>\n      <td>1.11</td>\n    </tr>\n    <tr>\n      <th>2</th>\n      <td>2011</td>\n      <td>6726</td>\n      <td>-0.4</td>\n      <td>0.98</td>\n      <td>8227</td>\n      <td>-3.5</td>\n      <td>1.09</td>\n      <td>8984</td>\n      <td>-2.6</td>\n      <td>1.18</td>\n      <td>8542</td>\n      <td>0.5</td>\n      <td>1.17</td>\n      <td>32479</td>\n      <td>-1.6</td>\n      <td>1.10</td>\n    </tr>\n    <tr>\n      <th>3</th>\n      <td>2012</td>\n      <td>7521</td>\n      <td>11.8</td>\n      <td>1.08</td>\n      <td>8612</td>\n      <td>4.7</td>\n      <td>1.12</td>\n      <td>9171</td>\n      <td>2.1</td>\n      <td>1.12</td>\n      <td>8478</td>\n      <td>-0.7</td>\n      <td>1.16</td>\n      <td>33782</td>\n      <td>4.0</td>\n      <td>1.14</td>\n    </tr>\n    <tr>\n      <th>4</th>\n      <td>2013</td>\n      <td>7166</td>\n      <td>-4.7</td>\n      <td>1.04</td>\n      <td>8207</td>\n      <td>-4.7</td>\n      <td>1.07</td>\n      <td>9024</td>\n      <td>-1.6</td>\n      <td>1.17</td>\n      <td>8496</td>\n      <td>0.2</td>\n      <td>1.15</td>\n      <td>32893</td>\n      <td>-2.6</td>\n      <td>1.10</td>\n    </tr>\n  </tbody>\n</table>\n</div>",
                        "text/plain": "   Year  1Q Count  1Q Change  1Q FR  2Q Count  2Q Change  2Q FR  3Q Count  \\\n0  2009      7552      -10.7   1.09      8975       -4.9   1.16      9104   \n1  2010      6755      -10.6   0.98      8522       -5.0   1.09      9226   \n2  2011      6726       -0.4   0.98      8227       -3.5   1.09      8984   \n3  2012      7521       11.8   1.08      8612        4.7   1.12      9171   \n4  2013      7166       -4.7   1.04      8207       -4.7   1.07      9024   \n\n   3Q Change  3Q FR  4Q Count  4Q Change  4Q FR  YR CT  YR CHG  YR FR  \n0       -8.5   1.17      8252      -13.9   1.12  33883    -9.5   1.15  \n1        1.3   1.18      8496        3.0   1.14  32999    -2.6   1.11  \n2       -2.6   1.18      8542        0.5   1.17  32479    -1.6   1.10  \n3        2.1   1.12      8478       -0.7   1.16  33782     4.0   1.14  \n4       -1.6   1.17      8496        0.2   1.15  32893    -2.6   1.10  "
                    },
                    "execution_count": 34,
                    "metadata": {},
                    "output_type": "execute_result"
                }
            ]
        },
        {
            "metadata": {},
            "cell_type": "code",
            "source": "df['YR CHG'].value_counts()",
            "execution_count": 35,
            "outputs": [
                {
                    "data": {
                        "text/plain": "-2.6    2\n-1.2    1\n-2.4    1\n 8.4    1\n-1.6    1\n-0.9    1\n 6.5    1\n-0.5    1\n 4.0    1\n-9.5    1\nName: YR CHG, dtype: int64"
                    },
                    "execution_count": 35,
                    "metadata": {},
                    "output_type": "execute_result"
                }
            ]
        },
        {
            "metadata": {},
            "cell_type": "code",
            "source": "df.hist(column='YR CHG', bins=10)",
            "execution_count": 36,
            "outputs": [
                {
                    "data": {
                        "text/plain": "array([[<matplotlib.axes._subplots.AxesSubplot object at 0x000001A16107EB08>]],\n      dtype=object)"
                    },
                    "execution_count": 36,
                    "metadata": {},
                    "output_type": "execute_result"
                },
                {
                    "data": {
                        "image/png": "[encoded data removed]",
                        "text/plain": "<Figure size 432x288 with 1 Axes>"
                    },
                    "metadata": {
                        "needs_background": "light"
                    },
                    "output_type": "display_data"
                }
            ]
        },
        {
            "metadata": {},
            "cell_type": "code",
            "source": "# Selection of Features\n\ndf.columns\n",
            "execution_count": 37,
            "outputs": [
                {
                    "data": {
                        "text/plain": "Index(['Year', '1Q Count', '1Q Change', '1Q FR', '2Q Count', '2Q Change',\n       '2Q FR', '3Q Count', '3Q Change', '3Q FR', '4Q Count', '4Q Change',\n       '4Q FR', 'YR CT', 'YR CHG', 'YR FR'],\n      dtype='object')"
                    },
                    "execution_count": 37,
                    "metadata": {},
                    "output_type": "execute_result"
                }
            ]
        },
        {
            "metadata": {},
            "cell_type": "code",
            "source": "df['Year']=df['Year'].astype('int64')",
            "execution_count": 38,
            "outputs": []
        },
        {
            "metadata": {},
            "cell_type": "code",
            "source": "print(df.dtypes)",
            "execution_count": 39,
            "outputs": [
                {
                    "name": "stdout",
                    "output_type": "stream",
                    "text": "Year           int64\n1Q Count       int64\n1Q Change    float64\n1Q FR        float64\n2Q Count       int64\n2Q Change    float64\n2Q FR        float64\n3Q Count       int64\n3Q Change    float64\n3Q FR        float64\n4Q Count       int64\n4Q Change    float64\n4Q FR        float64\nYR CT          int64\nYR CHG       float64\nYR FR        float64\ndtype: object\n"
                }
            ]
        },
        {
            "metadata": {},
            "cell_type": "code",
            "source": "# Feature Set\n\nX = df[['Year','1Q Count','1Q Change','1Q FR','2Q Count','2Q Change','2Q FR','3Q Count','3Q Change','3Q FR','4Q Count','4Q Change','4Q FR','YR CHG','YR CT','YR FR']].values \nX.dtype\n",
            "execution_count": 40,
            "outputs": [
                {
                    "data": {
                        "text/plain": "dtype('float64')"
                    },
                    "execution_count": 40,
                    "metadata": {},
                    "output_type": "execute_result"
                }
            ]
        },
        {
            "metadata": {
                "scrolled": true
            },
            "cell_type": "code",
            "source": "X[0:5]",
            "execution_count": 41,
            "outputs": [
                {
                    "data": {
                        "text/plain": "array([[ 2.0090e+03,  7.5520e+03, -1.0700e+01,  1.0900e+00,  8.9750e+03,\n        -4.9000e+00,  1.1600e+00,  9.1040e+03, -8.5000e+00,  1.1700e+00,\n         8.2520e+03, -1.3900e+01,  1.1200e+00, -9.5000e+00,  3.3883e+04,\n         1.1500e+00],\n       [ 2.0100e+03,  6.7550e+03, -1.0600e+01,  9.8000e-01,  8.5220e+03,\n        -5.0000e+00,  1.0900e+00,  9.2260e+03,  1.3000e+00,  1.1800e+00,\n         8.4960e+03,  3.0000e+00,  1.1400e+00, -2.6000e+00,  3.2999e+04,\n         1.1100e+00],\n       [ 2.0110e+03,  6.7260e+03, -4.0000e-01,  9.8000e-01,  8.2270e+03,\n        -3.5000e+00,  1.0900e+00,  8.9840e+03, -2.6000e+00,  1.1800e+00,\n         8.5420e+03,  5.0000e-01,  1.1700e+00, -1.6000e+00,  3.2479e+04,\n         1.1000e+00],\n       [ 2.0120e+03,  7.5210e+03,  1.1800e+01,  1.0800e+00,  8.6120e+03,\n         4.7000e+00,  1.1200e+00,  9.1710e+03,  2.1000e+00,  1.1200e+00,\n         8.4780e+03, -7.0000e-01,  1.1600e+00,  4.0000e+00,  3.3782e+04,\n         1.1400e+00],\n       [ 2.0130e+03,  7.1660e+03, -4.7000e+00,  1.0400e+00,  8.2070e+03,\n        -4.7000e+00,  1.0700e+00,  9.0240e+03, -1.6000e+00,  1.1700e+00,\n         8.4960e+03,  2.0000e-01,  1.1500e+00, -2.6000e+00,  3.2893e+04,\n         1.1000e+00]])"
                    },
                    "execution_count": 41,
                    "metadata": {},
                    "output_type": "execute_result"
                }
            ]
        },
        {
            "metadata": {},
            "cell_type": "code",
            "source": "# Labels\n\ny = df['Year'].values\n\ny[0:5]",
            "execution_count": 42,
            "outputs": [
                {
                    "data": {
                        "text/plain": "array([2009, 2010, 2011, 2012, 2013], dtype=int64)"
                    },
                    "execution_count": 42,
                    "metadata": {},
                    "output_type": "execute_result"
                }
            ]
        },
        {
            "metadata": {},
            "cell_type": "markdown",
            "source": "#### Normalize Data ####"
        },
        {
            "metadata": {
                "scrolled": true
            },
            "cell_type": "code",
            "source": "# Data Standardization to give zero mean and unit variance\n\nX = preprocessing.StandardScaler().fit(X).transform(X.astype('int'))\nX[0:5]",
            "execution_count": 43,
            "outputs": [
                {
                    "data": {
                        "text/plain": "array([[ -1.58113883,   0.10385367,  -1.30483581,  -1.03894273,\n          0.31044711,  -0.82455176,  -2.70651216,  -0.7613065 ,\n         -1.73097995,  -5.15503987,  -1.32070123,  -2.33109377,\n         -3.96772861,  -1.86890901,  -0.45433685,  -3.95975084],\n       [ -1.26491106,  -1.3367873 ,  -1.30483581, -21.08871468,\n         -0.61754207,  -1.03696556,  -2.70651216,  -0.49621223,\n          0.20975635,  -5.15503987,  -0.87509946,   0.58484442,\n         -3.96772861,  -0.37919893,  -0.91889747,  -3.95975084],\n       [ -0.9486833 ,  -1.38920711,   0.05436816, -21.08871468,\n         -1.22186173,  -0.61213795,  -2.70651216,  -1.02205496,\n         -0.43715575,  -5.15503987,  -0.79109256,   0.03810601,\n         -3.96772861,  -0.1663832 ,  -1.19216842,  -3.95975084],\n       [ -0.63245553,   0.0478187 ,   1.54949252,  -1.03894273,\n         -0.43317336,   0.87475865,  -2.70651216,  -0.61572194,\n          0.42539371,  -5.15503987,  -0.90797172,   0.03810601,\n         -3.96772861,   0.89769543,  -0.50741447,  -3.95975084],\n       [ -0.31622777,  -0.59387207,  -0.48931343,  -1.03894273,\n         -1.26283256,  -0.82455176,  -2.70651216,  -0.93513881,\n         -0.22151838,  -5.15503987,  -0.87509946,   0.03810601,\n         -3.96772861,  -0.37919893,  -0.9746027 ,  -3.95975084]])"
                    },
                    "execution_count": 43,
                    "metadata": {},
                    "output_type": "execute_result"
                }
            ]
        },
        {
            "metadata": {},
            "cell_type": "code",
            "source": "# Train-Split-Test\nfrom sklearn.model_selection import train_test_split\nX_train, X_test, y_train, y_test = train_test_split(X, y, test_size=0.2, random_state=None)\nprint('Train set:', X_train.shape, y_train.shape)\nprint('Test set:', X_test.shape, y_test.shape)\n",
            "execution_count": 44,
            "outputs": [
                {
                    "name": "stdout",
                    "output_type": "stream",
                    "text": "Train set: (8, 16) (8,)\nTest set: (3, 16) (3,)\n"
                }
            ]
        },
        {
            "metadata": {},
            "cell_type": "code",
            "source": "# Algorithm selection\nfrom sklearn.neighbors import KNeighborsClassifier",
            "execution_count": 45,
            "outputs": []
        },
        {
            "metadata": {},
            "cell_type": "code",
            "source": "# Fit models\nk = 2\nneigh = KNeighborsClassifier(n_neighbors=k).fit(X_train,y_train)\nneigh",
            "execution_count": 46,
            "outputs": [
                {
                    "data": {
                        "text/plain": "KNeighborsClassifier(algorithm='auto', leaf_size=30, metric='minkowski',\n                     metric_params=None, n_jobs=None, n_neighbors=2, p=2,\n                     weights='uniform')"
                    },
                    "execution_count": 46,
                    "metadata": {},
                    "output_type": "execute_result"
                }
            ]
        },
        {
            "metadata": {},
            "cell_type": "code",
            "source": "# Prediction\nyhat = neigh.predict(X_test)\nyhat[0:5]",
            "execution_count": 47,
            "outputs": [
                {
                    "data": {
                        "text/plain": "array([2010, 2009, 2015], dtype=int64)"
                    },
                    "execution_count": 47,
                    "metadata": {},
                    "output_type": "execute_result"
                }
            ]
        },
        {
            "metadata": {},
            "cell_type": "code",
            "source": "# Evaluation\nfrom sklearn import metrics\nprint(\"Train set Accuracy: \", metrics.accuracy_score(y_train, neigh.predict(X_train)))\n",
            "execution_count": 48,
            "outputs": [
                {
                    "name": "stdout",
                    "output_type": "stream",
                    "text": "Train set Accuracy:  0.75\n"
                }
            ]
        },
        {
            "metadata": {},
            "cell_type": "markdown",
            "source": "### Results ###\nFrom full year public available data 2009 until 2019 Motor Vehicle Traffic Fatalities numbers range from 37k to 36k. However, 2020 the numbers indicate a sharp spike for the first six months of the year. According to NHTSA estimates reported:\n>> - Expected Number of Traffic Fatalities of 6357\n>> - Additional Deaths over Expected Numbers Based on 2019 same period _719_"
        },
        {
            "metadata": {},
            "cell_type": "markdown",
            "source": "### Discussion ###\n\"Less traffic has coincided with a rise in speeding in some areas of the country, and that is a problem because speeding increases the risk of crashes and can increase crash severity as well\", said James Owens, deputy administrator of the National Traffic Adminstration in public service announcement."
        },
        {
            "metadata": {},
            "cell_type": "markdown",
            "source": "### Conclusion ###\nSee: Capstone Project Car Accident Severity Presentation pdf"
        }
    ],
    "metadata": {
        "kernelspec": {
            "name": "python3",
            "display_name": "Python 3.6",
            "language": "python"
        },
        "language_info": {
            "name": "python",
            "version": "3.6.9",
            "mimetype": "text/x-python",
            "codemirror_mode": {
                "name": "ipython",
                "version": 3
            },
            "pygments_lexer": "ipython3",
            "nbconvert_exporter": "python",
            "file_extension": ".py"
        }
    },
    "nbformat": 4,
    "nbformat_minor": 4
}