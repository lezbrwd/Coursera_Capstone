{
    "cells": [
        {
            "metadata": {},
            "cell_type": "markdown",
            "source": "# Car Accident Severity Resulting in Fatalities #\n\n## Introduction ##\n'Since March 2020 the corona-virus pandemic a _shelter-in-place_ order has minimized vehicles on thr roadways.  Instead of the minimal vehicles on the roadways, providing a safer  enviroment and insurance claim activity [cost], the opposite has occured.  Between the National Highway Safety Admininstration (NHTSA) and Insurance Service Office (ISO), car accident severity is rising at an alarming pace.  How can this be correct!  Basic logical deduction: _Less vehicle traffic produces less traffic accidents, especially server accidents._\n\nIn today's news, one health spokeman announced that the corona-virus pandemic's United States _shelter-in-place_ strategy could last until the end of 2021!  This is a study using Machine Learning alogrithms to __predict__ 07/2020 to 06/2021 fatalities based on a prior 12 months of data.'\n\n## Business Problem ##\n'Annually, insurance companies perform a _rate-making_ process to set premium rates, also known as _insurance pricing_. A rate is the price unit of insurance for each exposure unit. Vehicle coverage as property and casualty insurance, the exposure unit is typically equal to \\\\$100 of property value, and liability is measured in \\\\$1000 units. This study is focused on liability.'\n\n'Key _rate-making_ personnel are insurance underwriters and actuaries.'\n\n'The _rate-making_ process workflow is as follows:\n> 1. Identify the car accidents with fatalities data points\n> 2. Categorize data points: car fatalities, cost and locations\n> 3. Select Machine Learning Predictive Alogritm\n> 4. Perform Parameter Tuning and Averaging\n> 5. Create 2021 rates\n\n \n\n"
        },
        {
            "metadata": {},
            "cell_type": "markdown",
            "source": "## Data Section ##\n\n### Resources ###\n\n> __NHTSA: Early Estimates of Motoer Vehicle Fatalities, 2019__\n>> - Fatalities Quarterly data with percentage of change\n>> - 10-Regional counts and percentage of change<br>\n\n> __Injury Facts NSC: Traffic Volume/Averages__\n>> - Type of crash\n>> - Number deaths\n>> - Number of Fatal Crashes<br>\n\n> __NSC January 2019 and June 2020__\n>> - Total U.S. Motor Vehicle Deaths\n>>>  - comparisons for 2020, 2019, 2018\n>>>  - percentage change\n>>>>   - 2019 to 2020\n>>>>   - 2018 to 2020\n\nUsing supervised learning to identify data patterns in creating __2021__ fatalities predictions based on above mentioned analysis."
        },
        {
            "metadata": {},
            "cell_type": "markdown",
            "source": "## Methodology ##\n\nMachine Learning Pipeline: (numbered in processing order)\n> 1. preprocessing data\n> 2. selection of feature(s)\n> 3. extraction of feature(s)\n> 4. train - test - split\n> 5. algorithm selection\n> 6. fit the models\n> 7. turn the parameters\n> 8. _prediction_\n> 9. evaluation\n\n\n\n#### Source Data ####\n'To coincide with existing __Car Accident Fatality__ findings only NSC monthly numbers are analyzed.  Data is compiled in monthly Excel spreadsheets.  Consider the spreadsheets as source data.  The source data populate *accident* Pandas dataframe. Accident dataframe contents '\n\n#### Feature Extraction ####\nComparing data from 2019 versus 2020 (January to June)\n> Traffic Deaths\n> Vehicle Miles Traveled (VMT)\n> Fatality Rate per 100 million VMT\n> 22 States and District of Columbia January to June Fatility Report\n\n#### Machine Learning Model ###\n'Supervised Learning algoritms will afford using the patterns in the traffic fatalities data to make predictions. Random Forests Algorithm afford prediction, analysis and results. \n\n__Justification:__\n> Prediction for *Probabilites, Categorical Outcomes and Continous Outcomes*\n> Analysis is *Simple to Use*\n> Results are *Highly Accurate*\n\n__Note for Model Tuning Parameters strategies:__\n> Adjusting all the parameters of the Decision Tree\n> Changing the Number of Trees\n> Number of variables to select at the split\n\n#### Results ####\nUse current report analysis are benchmark and provide findings for consideration to *Rate-making* process."
        },
        {
            "metadata": {},
            "cell_type": "code",
            "source": "",
            "execution_count": null,
            "outputs": []
        }
    ],
    "metadata": {
        "kernelspec": {
            "name": "python3",
            "display_name": "Python 3.6",
            "language": "python"
        },
        "language_info": {
            "name": "python",
            "version": "3.6.9",
            "mimetype": "text/x-python",
            "codemirror_mode": {
                "name": "ipython",
                "version": 3
            },
            "pygments_lexer": "ipython3",
            "nbconvert_exporter": "python",
            "file_extension": ".py"
        }
    },
    "nbformat": 4,
    "nbformat_minor": 4
}