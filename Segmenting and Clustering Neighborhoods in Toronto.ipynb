{
    "cells": [
        {
            "metadata": {},
            "cell_type": "markdown",
            "source": "# Segmenting and Clustering Neighborhoods in Toronto - Part Two.\n \n#### This Jupyter Notebook is constructed to gather, analyze and display data.   There is a _three_ part submission requirement.\n**PART ONE**. \n    Initial Notebook submitted to my **Github repository** indicating the PostalCode, Borough, and Neighborhood omitting \"Not assigned\" designations. Data scrapped for wiki page table.\n    \n**PART TWO**. \n    In addition to the initial notebook data: PostalCode, Borough, and Neighborhood, are **Latitude and Longitiude** data.\n    \n##### PIPELINE:\n        - Download code libraries and extract webpage data set\n        - Explore the web page elements: PostalCode, Borough and Neighborhood\n        - Analyze and eliminate some of the values of each Neighborhood group\n        - Sumbit to Git Hub Repository\n "
        },
        {
            "metadata": {},
            "cell_type": "markdown",
            "source": "### Part One."
        },
        {
            "metadata": {},
            "cell_type": "markdown",
            "source": "#### Bring in the libraries to assist with the data tasks"
        },
        {
            "metadata": {},
            "cell_type": "code",
            "source": "#import the library to open URLs\nimport urllib.request",
            "execution_count": 1,
            "outputs": []
        },
        {
            "metadata": {},
            "cell_type": "code",
            "source": "#import the BeautifulSoup library to parse the HTML and XML\nfrom bs4 import BeautifulSoup",
            "execution_count": 2,
            "outputs": []
        },
        {
            "metadata": {},
            "cell_type": "code",
            "source": "#import Dataframe\nimport pandas as pd",
            "execution_count": 3,
            "outputs": []
        },
        {
            "metadata": {},
            "cell_type": "markdown",
            "source": "#### Web page"
        },
        {
            "metadata": {},
            "cell_type": "code",
            "source": "#URL to List of Postal Code of Canada:M Wikipedia web page scarpe for dataframe data\nurl = \"https://en.wikipedia.org/wiki/List_of_postal_codes_of_Canada:_M\"\n",
            "execution_count": 4,
            "outputs": []
        },
        {
            "metadata": {
                "scrolled": true
            },
            "cell_type": "code",
            "source": "#open the url usung urllib.request and put the HTML into the page variable\npage = urllib.request.urlopen(url)",
            "execution_count": 5,
            "outputs": []
        },
        {
            "metadata": {},
            "cell_type": "code",
            "source": "#Soup variable\nsoup=BeautifulSoup(page, \"lxml\")",
            "execution_count": 6,
            "outputs": []
        },
        {
            "metadata": {},
            "cell_type": "code",
            "source": "#to gather all the tables on the web\nall_tables=soup.find_all(\"table\")\n",
            "execution_count": 7,
            "outputs": []
        },
        {
            "metadata": {},
            "cell_type": "code",
            "source": "#toronto_table is the targeted table\ntoronto_table=soup.find('table', class_ = 'wikitable sortable')\n",
            "execution_count": 8,
            "outputs": []
        },
        {
            "metadata": {
                "scrolled": true
            },
            "cell_type": "code",
            "source": "#looping through the tablerows and tabledata into lists\nPostalCode=[]\nBorough=[]\nNeighborhood=[]\n  \nfor row in toronto_table.findAll('tr'):\n    cells=row.findAll('td')\n        \n    if len(cells) == 3:\n        PostalCode.append(cells[0].find(text=True))\n        Borough.append(cells[1].find(text=True))\n        Neighborhood.append(cells[2].find(text=True))\n      \n",
            "execution_count": 9,
            "outputs": []
        },
        {
            "metadata": {},
            "cell_type": "markdown",
            "source": "***Sanity Check.*** _From the instructions notes: If a cell has a borough but a Not assigned neighborhood, then the neighborhood will be the same as the borough. Examined the Borough and Neighborhood list. The data condition does not exist. This is a *NOP ...No Operation* step._"
        },
        {
            "metadata": {},
            "cell_type": "code",
            "source": "#Sanity Check NOP [no operation on this item from #3 and 4th bullet]\n# Neighborhood list with Not assigned\n\nNeighborhood",
            "execution_count": 10,
            "outputs": [
                {
                    "output_type": "execute_result",
                    "execution_count": 10,
                    "data": {
                        "text/plain": "['Not assigned\\n',\n 'Not assigned\\n',\n 'Parkwoods\\n',\n 'Victoria Village\\n',\n 'Regent Park, Harbourfront\\n',\n 'Lawrence Manor, Lawrence Heights\\n',\n \"Queen's Park, Ontario Provincial Government\\n\",\n 'Not assigned\\n',\n 'Islington Avenue, Humber Valley Village\\n',\n 'Malvern, Rouge\\n',\n 'Not assigned\\n',\n 'Don Mills\\n',\n 'Parkview Hill, Woodbine Gardens\\n',\n 'Garden District, Ryerson\\n',\n 'Glencairn\\n',\n 'Not assigned\\n',\n 'Not assigned\\n',\n 'West Deane Park, Princess Gardens, Martin Grove, Islington, Cloverdale\\n',\n 'Rouge Hill, Port Union, Highland Creek\\n',\n 'Not assigned\\n',\n 'Don Mills\\n',\n 'Woodbine Heights\\n',\n 'St. James Town\\n',\n 'Humewood-Cedarvale\\n',\n 'Not assigned\\n',\n 'Not assigned\\n',\n 'Eringate, Bloordale Gardens, Old Burnhamthorpe, Markland Wood\\n',\n 'Guildwood, Morningside, West Hill\\n',\n 'Not assigned\\n',\n 'Not assigned\\n',\n 'The Beaches\\n',\n 'Berczy Park\\n',\n 'Caledonia-Fairbanks\\n',\n 'Not assigned\\n',\n 'Not assigned\\n',\n 'Not assigned\\n',\n 'Woburn\\n',\n 'Not assigned\\n',\n 'Not assigned\\n',\n 'Leaside\\n',\n 'Central Bay Street\\n',\n 'Christie\\n',\n 'Not assigned\\n',\n 'Not assigned\\n',\n 'Not assigned\\n',\n 'Cedarbrae\\n',\n 'Hillcrest Village\\n',\n 'Bathurst Manor, Wilson Heights, Downsview North\\n',\n 'Thorncliffe Park\\n',\n 'Richmond, Adelaide, King\\n',\n 'Dufferin, Dovercourt Village\\n',\n 'Not assigned\\n',\n 'Not assigned\\n',\n 'Not assigned\\n',\n 'Scarborough Village\\n',\n 'Fairview, Henry Farm, Oriole\\n',\n 'Northwood Park, York University\\n',\n 'East Toronto, Broadview North (Old East York)\\n',\n 'Harbourfront East, Union Station, Toronto Islands\\n',\n 'Little Portugal, Trinity\\n',\n 'Not assigned\\n',\n 'Not assigned\\n',\n 'Not assigned\\n',\n 'Kennedy Park, Ionview, East Birchmount Park\\n',\n 'Bayview Village\\n',\n 'Downsview\\n',\n 'The Danforth West, Riverdale\\n',\n 'Toronto Dominion Centre, Design Exchange\\n',\n 'Brockton, Parkdale Village, Exhibition Place\\n',\n 'Not assigned\\n',\n 'Not assigned\\n',\n 'Not assigned\\n',\n 'Golden Mile, Clairlea, Oakridge\\n',\n 'York Mills, Silver Hills\\n',\n 'Downsview\\n',\n 'India Bazaar, The Beaches West\\n',\n 'Commerce Court, Victoria Hotel\\n',\n 'North Park, Maple Leaf Park, Upwood Park\\n',\n 'Not assigned\\n',\n 'Not assigned\\n',\n 'Humber Summit\\n',\n 'Cliffside, Cliffcrest, Scarborough Village West\\n',\n 'Willowdale, Newtonbrook\\n',\n 'Downsview\\n',\n 'Studio District\\n',\n 'Bedford Park, Lawrence Manor East\\n',\n 'Del Ray, Mount Dennis, Keelsdale and Silverthorn\\n',\n 'Not assigned\\n',\n 'Not assigned\\n',\n 'Humberlea, Emery\\n',\n 'Birch Cliff, Cliffside West\\n',\n 'Willowdale, Willowdale East\\n',\n 'Downsview\\n',\n 'Lawrence Park\\n',\n 'Roselawn\\n',\n 'Runnymede, The Junction North\\n',\n 'Not assigned\\n',\n 'Not assigned\\n',\n 'Weston\\n',\n 'Dorset Park, Wexford Heights, Scarborough Town Centre\\n',\n 'York Mills West\\n',\n 'Not assigned\\n',\n 'Davisville North\\n',\n 'Forest Hill North & West, Forest Hill Road Park\\n',\n 'High Park, The Junction South\\n',\n 'Not assigned\\n',\n 'Not assigned\\n',\n 'Westmount\\n',\n 'Wexford, Maryvale\\n',\n 'Willowdale, Willowdale West\\n',\n 'Not assigned\\n',\n 'North Toronto West,  Lawrence Park\\n',\n 'The Annex, North Midtown, Yorkville\\n',\n 'Parkdale, Roncesvalles\\n',\n 'Canada Post Gateway Processing Centre\\n',\n 'Not assigned\\n',\n 'Kingsview Village, St. Phillips, Martin Grove Gardens, Richview Gardens\\n',\n 'Agincourt\\n',\n 'Not assigned\\n',\n 'Not assigned\\n',\n 'Davisville\\n',\n 'University of Toronto, Harbord\\n',\n 'Runnymede, Swansea\\n',\n 'Not assigned\\n',\n 'Not assigned\\n',\n 'Not assigned\\n',\n \"Clarks Corners, Tam O'Shanter, Sullivan\\n\",\n 'Not assigned\\n',\n 'Not assigned\\n',\n 'Moore Park, Summerhill East\\n',\n 'Kensington Market, Chinatown, Grange Park\\n',\n 'Not assigned\\n',\n 'Not assigned\\n',\n 'Not assigned\\n',\n 'Not assigned\\n',\n \"Milliken, Agincourt North, Steeles East, L'Amoreaux East\\n\",\n 'Not assigned\\n',\n 'Not assigned\\n',\n 'Summerhill West, Rathnelly, South Hill, Forest Hill SE, Deer Park\\n',\n 'CN Tower, King and Spadina, Railway Lands, Harbourfront West, Bathurst Quay, South Niagara, Island airport\\n',\n 'Not assigned\\n',\n 'Not assigned\\n',\n 'New Toronto, Mimico South, Humber Bay Shores\\n',\n 'South Steeles, Silverstone, Humbergate, Jamestown, Mount Olive, Beaumond Heights, Thistletown, Albion Gardens\\n',\n \"Steeles West, L'Amoreaux West\\n\",\n 'Not assigned\\n',\n 'Not assigned\\n',\n 'Rosedale\\n',\n 'Stn A PO Boxes\\n',\n 'Not assigned\\n',\n 'Not assigned\\n',\n 'Alderwood, Long Branch\\n',\n 'Northwest, West Humber - Clairville\\n',\n 'Upper Rouge\\n',\n 'Not assigned\\n',\n 'Not assigned\\n',\n 'St. James Town, Cabbagetown\\n',\n 'First Canadian Place, Underground city\\n',\n 'Not assigned\\n',\n 'Not assigned\\n',\n 'The Kingsway, Montgomery Road, Old Mill North\\n',\n 'Not assigned\\n',\n 'Not assigned\\n',\n 'Not assigned\\n',\n 'Not assigned\\n',\n 'Church and Wellesley\\n',\n 'Not assigned\\n',\n 'Not assigned\\n',\n 'Business reply mail Processing Centre, South Central Letter Processing Plant Toronto\\n',\n \"Old Mill South, King's Mill Park, Sunnylea, Humber Bay, Mimico NE, The Queensway East, Royal York South East, Kingsway Park South East\\n\",\n 'Not assigned\\n',\n 'Not assigned\\n',\n 'Not assigned\\n',\n 'Not assigned\\n',\n 'Not assigned\\n',\n 'Not assigned\\n',\n 'Not assigned\\n',\n 'Not assigned\\n',\n 'Mimico NW, The Queensway West, South of Bloor, Kingsway Park South West, Royal York South West\\n',\n 'Not assigned\\n']"
                    },
                    "metadata": {}
                }
            ]
        },
        {
            "metadata": {},
            "cell_type": "markdown",
            "source": "#### Dataframe"
        },
        {
            "metadata": {
                "scrolled": true
            },
            "cell_type": "code",
            "source": "#load dataframe with data\ndf=pd.DataFrame(PostalCode,columns=['Postal Code'])\ndf['Borough']=Borough\ndf['Neighborhood']=Neighborhood\ndf=df.replace('\\n','',regex=True)\ndf1=df[df.Borough != 'Not assigned']             \n",
            "execution_count": 11,
            "outputs": []
        },
        {
            "metadata": {},
            "cell_type": "markdown",
            "source": "#### Report"
        },
        {
            "metadata": {
                "scrolled": true
            },
            "cell_type": "code",
            "source": "#Data\nprint('Postal Codes of Canada')\nshape = df1.shape\nprint('Number of rows :', shape[0])\nprint('Number of columns :', shape[1])",
            "execution_count": 12,
            "outputs": [
                {
                    "output_type": "stream",
                    "text": "Postal Codes of Canada\nNumber of rows : 103\nNumber of columns : 3\n",
                    "name": "stdout"
                }
            ]
        },
        {
            "metadata": {},
            "cell_type": "markdown",
            "source": "#### End of Part One.\n\n### PartTwo."
        },
        {
            "metadata": {},
            "cell_type": "code",
            "source": "#Geographical coordinates of the Toronto Neighborhoods aligned with PostalCodes\n!wget -O geospatial.csv http://cocl.us/Geospatial_data",
            "execution_count": 13,
            "outputs": [
                {
                    "output_type": "stream",
                    "text": "--2020-06-17 00:10:17--  http://cocl.us/Geospatial_data\nResolving cocl.us (cocl.us)... 158.85.108.86, 158.85.108.83, 169.48.113.194\nConnecting to cocl.us (cocl.us)|158.85.108.86|:80... connected.\nHTTP request sent, awaiting response... 301 Moved Permanently\nLocation: https://cocl.us/Geospatial_data [following]\n--2020-06-17 00:10:18--  https://cocl.us/Geospatial_data\nConnecting to cocl.us (cocl.us)|158.85.108.86|:443... connected.\nHTTP request sent, awaiting response... 301 Moved Permanently\nLocation: https://ibm.box.com/shared/static/9afzr83pps4pwf2smjjcf1y5mvgb18rr.csv [following]\n--2020-06-17 00:10:19--  https://ibm.box.com/shared/static/9afzr83pps4pwf2smjjcf1y5mvgb18rr.csv\nResolving ibm.box.com (ibm.box.com)... 107.152.26.197\nConnecting to ibm.box.com (ibm.box.com)|107.152.26.197|:443... connected.\nHTTP request sent, awaiting response... 301 Moved Permanently\nLocation: /public/static/9afzr83pps4pwf2smjjcf1y5mvgb18rr.csv [following]\n--2020-06-17 00:10:20--  https://ibm.box.com/public/static/9afzr83pps4pwf2smjjcf1y5mvgb18rr.csv\nReusing existing connection to ibm.box.com:443.\nHTTP request sent, awaiting response... 301 Moved Permanently\nLocation: https://ibm.ent.box.com/public/static/9afzr83pps4pwf2smjjcf1y5mvgb18rr.csv [following]\n--2020-06-17 00:10:20--  https://ibm.ent.box.com/public/static/9afzr83pps4pwf2smjjcf1y5mvgb18rr.csv\nResolving ibm.ent.box.com (ibm.ent.box.com)... 107.152.29.201\nConnecting to ibm.ent.box.com (ibm.ent.box.com)|107.152.29.201|:443... connected.\nHTTP request sent, awaiting response... 302 Found\nLocation: https://public.boxcloud.com/d/1/b1!YNXbdCWnVqBjpzFslskolsMjfu305IauRLaHmN5phyVZQfw3k54xtzuHPzYAEMtW6X8x-j1vRlrYG2PkHofdxbkrofyLPtqLf4T2GuyZLaV_JVfmwFuYGMhu_ctQ1vtug7NWXx0tq2brdYg0eaQDv_xN2fe6--SuhRzICTpC0RChwDxXCwHkmfyVTlDConEEqouDFnshpGPI8OMfm885K4P21ZubmymmAhwn3TmsaPNiUan7aLIj-FkAV_eddZwhwUJJh4G8EVPJ6yNTBfw55T8xnWsOmCel-EXc0nKOyhtfCFuMmiGXcwM4HryLa2F_Q6ppN3d8Hcn9rT7cpYi7TDWv15caZvnRbMbu8Ehhecsf69FocVA1reOzDubygDlnEwPS2vqj-9A4UjLT7thueWeBkF26dlnAfy6XESyGAmCKHsoCui0YlEwpzYFe_bUHdD59F_uvIzoM5xD5FUxoaSmK_R9yqlG9J96kFAcmyhik4TVIKRKaMzVfwO4QWA2IAafUgWtVISd4fbkCohayKSRW28keTvFRSy4rIaaIGhTgySHy3iZJZ6ZfRMUNEyk_M8HiTD1uGrM24ul1O6rFgLmNuku31Naf4Tr3AGEIwX18AlIh4OfbX4ggICMo2wlW2Q0zaccnlJySwzsfn8o4J5n7o1ON2_7fDZnB0CpetlCs0Z1C7jLABziNbr71wJ18JWanaXRPljKr8ZNPPiULKff_4tALMbcrN8MDOlqstMW14zJe2c-y-hm-af6gkR4lCLA---y3Z4I8MioFVibc_6a9xcuYjI3353MzTux746WrFMBaCSgGeq4hg9wxRNzRLHEJn-24XIBly-2DzjguEbfeh66QVcYVIReuURYByuoHTLfq_8L1gEJWLzYdGMdbx-5riGg-KMScHL7Y949o2haC2CMD-v5qjt5pgvQEv_VeQirunT-AGOxlQTkgUUQ8Wvdxy91MJiLQ7iDoGrUtby6a5tmHz4E1_vK6eUtKXT0_GAtXPo9o1lBrZ5OZxNmoPnCvNYxiELtPvb1FB2WRQOTLFxYLTlpAIoPhk5MlbetE5klOo-7bo8XEVqX9mUwrsai4F9Pxk4Rbi2VUKK7q1cOfnJlv-z3aI3hscaPtujl-Q_iv6OpOMFAExCPICxEID0bd5Mj8ym-AxGMN_5rkaVub_pK9-eWXc-5lTt_piByxJVgWpL9j55t5SbIRC95GBF8KiEAbFw0YLvgToCaLts6t9Rg5E9xgXn9Y6vo3NHy219XiuZ3JLp9EJ8CJ7EnwGlF5o1sakmlBuq81OWaLPRtRfp5FeZMiiy9C1PcugBOoHEYtsbgW4UymW7J_JPh2XWdb1IqVuxztoHNiPM-xpkckZsdgX2j2dsiVCSDoHJwk4CwI7lkUbEIx3o-0midsELhKgv6TlvJT1nHnXRDIa6LaJjrfWv0M_JhO51eFchc./download [following]\n--2020-06-17 00:10:21--  https://public.boxcloud.com/d/1/b1!YNXbdCWnVqBjpzFslskolsMjfu305IauRLaHmN5phyVZQfw3k54xtzuHPzYAEMtW6X8x-j1vRlrYG2PkHofdxbkrofyLPtqLf4T2GuyZLaV_JVfmwFuYGMhu_ctQ1vtug7NWXx0tq2brdYg0eaQDv_xN2fe6--SuhRzICTpC0RChwDxXCwHkmfyVTlDConEEqouDFnshpGPI8OMfm885K4P21ZubmymmAhwn3TmsaPNiUan7aLIj-FkAV_eddZwhwUJJh4G8EVPJ6yNTBfw55T8xnWsOmCel-EXc0nKOyhtfCFuMmiGXcwM4HryLa2F_Q6ppN3d8Hcn9rT7cpYi7TDWv15caZvnRbMbu8Ehhecsf69FocVA1reOzDubygDlnEwPS2vqj-9A4UjLT7thueWeBkF26dlnAfy6XESyGAmCKHsoCui0YlEwpzYFe_bUHdD59F_uvIzoM5xD5FUxoaSmK_R9yqlG9J96kFAcmyhik4TVIKRKaMzVfwO4QWA2IAafUgWtVISd4fbkCohayKSRW28keTvFRSy4rIaaIGhTgySHy3iZJZ6ZfRMUNEyk_M8HiTD1uGrM24ul1O6rFgLmNuku31Naf4Tr3AGEIwX18AlIh4OfbX4ggICMo2wlW2Q0zaccnlJySwzsfn8o4J5n7o1ON2_7fDZnB0CpetlCs0Z1C7jLABziNbr71wJ18JWanaXRPljKr8ZNPPiULKff_4tALMbcrN8MDOlqstMW14zJe2c-y-hm-af6gkR4lCLA---y3Z4I8MioFVibc_6a9xcuYjI3353MzTux746WrFMBaCSgGeq4hg9wxRNzRLHEJn-24XIBly-2DzjguEbfeh66QVcYVIReuURYByuoHTLfq_8L1gEJWLzYdGMdbx-5riGg-KMScHL7Y949o2haC2CMD-v5qjt5pgvQEv_VeQirunT-AGOxlQTkgUUQ8Wvdxy91MJiLQ7iDoGrUtby6a5tmHz4E1_vK6eUtKXT0_GAtXPo9o1lBrZ5OZxNmoPnCvNYxiELtPvb1FB2WRQOTLFxYLTlpAIoPhk5MlbetE5klOo-7bo8XEVqX9mUwrsai4F9Pxk4Rbi2VUKK7q1cOfnJlv-z3aI3hscaPtujl-Q_iv6OpOMFAExCPICxEID0bd5Mj8ym-AxGMN_5rkaVub_pK9-eWXc-5lTt_piByxJVgWpL9j55t5SbIRC95GBF8KiEAbFw0YLvgToCaLts6t9Rg5E9xgXn9Y6vo3NHy219XiuZ3JLp9EJ8CJ7EnwGlF5o1sakmlBuq81OWaLPRtRfp5FeZMiiy9C1PcugBOoHEYtsbgW4UymW7J_JPh2XWdb1IqVuxztoHNiPM-xpkckZsdgX2j2dsiVCSDoHJwk4CwI7lkUbEIx3o-0midsELhKgv6TlvJT1nHnXRDIa6LaJjrfWv0M_JhO51eFchc./download\nResolving public.boxcloud.com (public.boxcloud.com)... 107.152.29.200\nConnecting to public.boxcloud.com (public.boxcloud.com)|107.152.29.200|:443... connected.\nHTTP request sent, awaiting response... 200 OK\nLength: 2891 (2.8K) [text/csv]\nSaving to: \u2018geospatial.csv\u2019\n\n100%[======================================>] 2,891       --.-K/s   in 0s      \n\n2020-06-17 00:10:21 (278 MB/s) - \u2018geospatial.csv\u2019 saved [2891/2891]\n\n",
                    "name": "stdout"
                }
            ]
        },
        {
            "metadata": {
                "scrolled": true
            },
            "cell_type": "code",
            "source": "df2 = pd.read_csv('geospatial.csv')\ndf2.head(11)",
            "execution_count": 14,
            "outputs": [
                {
                    "output_type": "execute_result",
                    "execution_count": 14,
                    "data": {
                        "text/plain": "   Postal Code   Latitude  Longitude\n0          M1B  43.806686 -79.194353\n1          M1C  43.784535 -79.160497\n2          M1E  43.763573 -79.188711\n3          M1G  43.770992 -79.216917\n4          M1H  43.773136 -79.239476\n5          M1J  43.744734 -79.239476\n6          M1K  43.727929 -79.262029\n7          M1L  43.711112 -79.284577\n8          M1M  43.716316 -79.239476\n9          M1N  43.692657 -79.264848\n10         M1P  43.757410 -79.273304",
                        "text/html": "<div>\n<style scoped>\n    .dataframe tbody tr th:only-of-type {\n        vertical-align: middle;\n    }\n\n    .dataframe tbody tr th {\n        vertical-align: top;\n    }\n\n    .dataframe thead th {\n        text-align: right;\n    }\n</style>\n<table border=\"1\" class=\"dataframe\">\n  <thead>\n    <tr style=\"text-align: right;\">\n      <th></th>\n      <th>Postal Code</th>\n      <th>Latitude</th>\n      <th>Longitude</th>\n    </tr>\n  </thead>\n  <tbody>\n    <tr>\n      <th>0</th>\n      <td>M1B</td>\n      <td>43.806686</td>\n      <td>-79.194353</td>\n    </tr>\n    <tr>\n      <th>1</th>\n      <td>M1C</td>\n      <td>43.784535</td>\n      <td>-79.160497</td>\n    </tr>\n    <tr>\n      <th>2</th>\n      <td>M1E</td>\n      <td>43.763573</td>\n      <td>-79.188711</td>\n    </tr>\n    <tr>\n      <th>3</th>\n      <td>M1G</td>\n      <td>43.770992</td>\n      <td>-79.216917</td>\n    </tr>\n    <tr>\n      <th>4</th>\n      <td>M1H</td>\n      <td>43.773136</td>\n      <td>-79.239476</td>\n    </tr>\n    <tr>\n      <th>5</th>\n      <td>M1J</td>\n      <td>43.744734</td>\n      <td>-79.239476</td>\n    </tr>\n    <tr>\n      <th>6</th>\n      <td>M1K</td>\n      <td>43.727929</td>\n      <td>-79.262029</td>\n    </tr>\n    <tr>\n      <th>7</th>\n      <td>M1L</td>\n      <td>43.711112</td>\n      <td>-79.284577</td>\n    </tr>\n    <tr>\n      <th>8</th>\n      <td>M1M</td>\n      <td>43.716316</td>\n      <td>-79.239476</td>\n    </tr>\n    <tr>\n      <th>9</th>\n      <td>M1N</td>\n      <td>43.692657</td>\n      <td>-79.264848</td>\n    </tr>\n    <tr>\n      <th>10</th>\n      <td>M1P</td>\n      <td>43.757410</td>\n      <td>-79.273304</td>\n    </tr>\n  </tbody>\n</table>\n</div>"
                    },
                    "metadata": {}
                }
            ]
        },
        {
            "metadata": {},
            "cell_type": "code",
            "source": "df_table = pd.merge(df1, df2)\ndf_table.head(11)\n",
            "execution_count": 15,
            "outputs": [
                {
                    "output_type": "execute_result",
                    "execution_count": 15,
                    "data": {
                        "text/plain": "   Postal Code           Borough                                 Neighborhood  \\\n0          M3A        North York                                    Parkwoods   \n1          M4A        North York                             Victoria Village   \n2          M5A  Downtown Toronto                    Regent Park, Harbourfront   \n3          M6A        North York             Lawrence Manor, Lawrence Heights   \n4          M7A  Downtown Toronto  Queen's Park, Ontario Provincial Government   \n5          M9A         Etobicoke      Islington Avenue, Humber Valley Village   \n6          M1B       Scarborough                               Malvern, Rouge   \n7          M3B        North York                                    Don Mills   \n8          M4B         East York              Parkview Hill, Woodbine Gardens   \n9          M5B  Downtown Toronto                     Garden District, Ryerson   \n10         M6B        North York                                    Glencairn   \n\n     Latitude  Longitude  \n0   43.753259 -79.329656  \n1   43.725882 -79.315572  \n2   43.654260 -79.360636  \n3   43.718518 -79.464763  \n4   43.662301 -79.389494  \n5   43.667856 -79.532242  \n6   43.806686 -79.194353  \n7   43.745906 -79.352188  \n8   43.706397 -79.309937  \n9   43.657162 -79.378937  \n10  43.709577 -79.445073  ",
                        "text/html": "<div>\n<style scoped>\n    .dataframe tbody tr th:only-of-type {\n        vertical-align: middle;\n    }\n\n    .dataframe tbody tr th {\n        vertical-align: top;\n    }\n\n    .dataframe thead th {\n        text-align: right;\n    }\n</style>\n<table border=\"1\" class=\"dataframe\">\n  <thead>\n    <tr style=\"text-align: right;\">\n      <th></th>\n      <th>Postal Code</th>\n      <th>Borough</th>\n      <th>Neighborhood</th>\n      <th>Latitude</th>\n      <th>Longitude</th>\n    </tr>\n  </thead>\n  <tbody>\n    <tr>\n      <th>0</th>\n      <td>M3A</td>\n      <td>North York</td>\n      <td>Parkwoods</td>\n      <td>43.753259</td>\n      <td>-79.329656</td>\n    </tr>\n    <tr>\n      <th>1</th>\n      <td>M4A</td>\n      <td>North York</td>\n      <td>Victoria Village</td>\n      <td>43.725882</td>\n      <td>-79.315572</td>\n    </tr>\n    <tr>\n      <th>2</th>\n      <td>M5A</td>\n      <td>Downtown Toronto</td>\n      <td>Regent Park, Harbourfront</td>\n      <td>43.654260</td>\n      <td>-79.360636</td>\n    </tr>\n    <tr>\n      <th>3</th>\n      <td>M6A</td>\n      <td>North York</td>\n      <td>Lawrence Manor, Lawrence Heights</td>\n      <td>43.718518</td>\n      <td>-79.464763</td>\n    </tr>\n    <tr>\n      <th>4</th>\n      <td>M7A</td>\n      <td>Downtown Toronto</td>\n      <td>Queen's Park, Ontario Provincial Government</td>\n      <td>43.662301</td>\n      <td>-79.389494</td>\n    </tr>\n    <tr>\n      <th>5</th>\n      <td>M9A</td>\n      <td>Etobicoke</td>\n      <td>Islington Avenue, Humber Valley Village</td>\n      <td>43.667856</td>\n      <td>-79.532242</td>\n    </tr>\n    <tr>\n      <th>6</th>\n      <td>M1B</td>\n      <td>Scarborough</td>\n      <td>Malvern, Rouge</td>\n      <td>43.806686</td>\n      <td>-79.194353</td>\n    </tr>\n    <tr>\n      <th>7</th>\n      <td>M3B</td>\n      <td>North York</td>\n      <td>Don Mills</td>\n      <td>43.745906</td>\n      <td>-79.352188</td>\n    </tr>\n    <tr>\n      <th>8</th>\n      <td>M4B</td>\n      <td>East York</td>\n      <td>Parkview Hill, Woodbine Gardens</td>\n      <td>43.706397</td>\n      <td>-79.309937</td>\n    </tr>\n    <tr>\n      <th>9</th>\n      <td>M5B</td>\n      <td>Downtown Toronto</td>\n      <td>Garden District, Ryerson</td>\n      <td>43.657162</td>\n      <td>-79.378937</td>\n    </tr>\n    <tr>\n      <th>10</th>\n      <td>M6B</td>\n      <td>North York</td>\n      <td>Glencairn</td>\n      <td>43.709577</td>\n      <td>-79.445073</td>\n    </tr>\n  </tbody>\n</table>\n</div>"
                    },
                    "metadata": {}
                }
            ]
        },
        {
            "metadata": {},
            "cell_type": "markdown",
            "source": "### End of Part Two.\n"
        }
    ],
    "metadata": {
        "kernelspec": {
            "name": "python3",
            "display_name": "Python 3.6",
            "language": "python"
        },
        "language_info": {
            "name": "python",
            "version": "3.6.9",
            "mimetype": "text/x-python",
            "codemirror_mode": {
                "name": "ipython",
                "version": 3
            },
            "pygments_lexer": "ipython3",
            "nbconvert_exporter": "python",
            "file_extension": ".py"
        }
    },
    "nbformat": 4,
    "nbformat_minor": 4
}