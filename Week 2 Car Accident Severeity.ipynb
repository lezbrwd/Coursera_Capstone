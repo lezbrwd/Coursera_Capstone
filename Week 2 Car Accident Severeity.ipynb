{
    "cells": [
        {
            "cell_type": "markdown",
            "metadata": {
                "collapsed": true
            },
            "source": "# Car Accident Severity Resulting in Fatalies\n\n## Introduction\n'Since March 2020 the corona-virus pandemic a _shelter-in-place_ order has minimized vehicles on thr roadways.  Instead of the minimal vehicles on the roadways, providing a safer  enviroment and insurance claim activity [cost], the opposite has occured.  Between the National Highway Safety Admininstration (NHTSA) and Insurance Service Office (ISO), car accident severity is rising at an alarming pace.  How can this be correct!  Basic logical deduction: _Less vehicle traffic produces less traffic accidents, especially server accidents._\n\nIn today's news, one health spokeman announced that the corona-virus pandemic's United States _shelter-in-place_ strategy could last until the end of 2021!  This is a study using Machine Learning alogrithms to __predict__ 07/2020 to 06/2021 fatalities based on a prior 12 months of data.'\n\n## Business Problem\n'Annually, insurance companies perform a _rate-making_ process to set premium rates, also known as _insurance pricing_. A rate is the price unit of insurance for each exposure unit. Vehicle coverage as property and casualty insurance, the exposure unit is typically equal to \\\\$100 of property value, and liability is measured in \\\\$1000 units. This study is focused on liability.'\n\n'Key _rate-making_ personnel are insurance underwriters and actuaries.'\n\n'The _rate-making_ process workflow is as follows:\n> 1. Identify the car accidents with fatalities data points\n> 2. Categorize data points: car fatalities, cost and locations\n> 3. Select Machine Learning Predictive Alogritm\n> 4. Perform Parameter Tuning and Averaging\n> 5. Create 2021 rates\n\n \n"
        },
        {
            "cell_type": "markdown",
            "metadata": {},
            "source": "## Data Section\n\n### Resources\n\n> __NHTSA: Early Estimates of Motor Vehicle Fatalities, 2019__\n>> - Fatalities Quarterly data with percentage of change\n>> - 10-Regional counts and percentage of change<br>\n\n> __Injury Facts NSC: Traffic Volume/Averages__\n>> - Type of crash\n>> - Number deaths\n>> - Number of Fatal Crashes<br>\n\n> __NSC January 2019 and June 2020__\n>> - Total U.S. Motor Vehicle Deaths\n>>>  - comparisons for 2020, 2019, 2018\n>>>  - percentage change\n>>>>   - 2019 to 2020\n>>>>   - 2018 to 2020\n\n'Using supervised learning to identify data patterns in creating __2021__ fatalities predictions based on above mentioned analysis."
        },
        {
            "cell_type": "code",
            "execution_count": null,
            "metadata": {},
            "outputs": [],
            "source": ""
        }
    ],
    "metadata": {
        "kernelspec": {
            "display_name": "Python 3.6",
            "language": "python",
            "name": "python3"
        },
        "language_info": {
            "codemirror_mode": {
                "name": "ipython",
                "version": 3
            },
            "file_extension": ".py",
            "mimetype": "text/x-python",
            "name": "python",
            "nbconvert_exporter": "python",
            "pygments_lexer": "ipython3",
            "version": "3.6.9"
        }
    },
    "nbformat": 4,
    "nbformat_minor": 1
}